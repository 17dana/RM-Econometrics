{
 "cells": [
  {
   "cell_type": "code",
   "execution_count": 15,
   "metadata": {
    "scrolled": false
   },
   "outputs": [
    {
     "name": "stderr",
     "output_type": "stream",
     "text": [
      "also installing the dependency ‘vctrs’\n",
      "\n",
      "Updating HTML index of packages in '.Library'\n",
      "Making 'packages.html' ... done\n"
     ]
    }
   ],
   "source": [
    "install.packages(\"haven\")"
   ]
  },
  {
   "cell_type": "code",
   "execution_count": 27,
   "metadata": {},
   "outputs": [
    {
     "name": "stderr",
     "output_type": "stream",
     "text": [
      "also installing the dependencies ‘miscTools’, ‘gbRd’, ‘rbibutils’, ‘bdsmatrix’, ‘sandwich’, ‘lmtest’, ‘maxLik’, ‘Rdpack’, ‘Formula’\n",
      "\n",
      "Updating HTML index of packages in '.Library'\n",
      "Making 'packages.html' ... done\n"
     ]
    }
   ],
   "source": [
    "install.packages(\"plm\")"
   ]
  },
  {
   "cell_type": "code",
   "execution_count": 28,
   "metadata": {},
   "outputs": [],
   "source": [
    "library(haven)\n",
    "library(plm)"
   ]
  },
  {
   "cell_type": "code",
   "execution_count": 43,
   "metadata": {},
   "outputs": [],
   "source": [
    "df = read_dta(\"MonthlyPanel.dta\")"
   ]
  },
  {
   "cell_type": "code",
   "execution_count": 56,
   "metadata": {},
   "outputs": [],
   "source": [
    "lm = plm(formula = totrob ~ inst1p + inst3_1p + factor(mes), index=\"observ\", model=\"within\", data=df)"
   ]
  },
  {
   "cell_type": "code",
   "execution_count": 57,
   "metadata": {},
   "outputs": [
    {
     "data": {
      "text/plain": [
       "Oneway (individual) effect Within Model\n",
       "\n",
       "Call:\n",
       "plm(formula = totrob ~ inst1p + inst3_1p + factor(mes), data = df, \n",
       "    model = \"within\", index = \"observ\")\n",
       "\n",
       "Balanced Panel: n = 876, T = 11, N = 9636\n",
       "\n",
       "Residuals:\n",
       "     Min.   1st Qu.    Median   3rd Qu.      Max. \n",
       "-0.583822 -0.086105 -0.029194  0.024704  2.198505 \n",
       "\n",
       "Coefficients:\n",
       "                 Estimate  Std. Error t-value  Pr(>|t|)    \n",
       "inst1p        -0.06276872  0.02275583 -2.7584  0.005821 ** \n",
       "inst3_1p      -0.00685761  0.01181704 -0.5803  0.561717    \n",
       "factor(mes)5  -0.01141553  0.01027545 -1.1110  0.266620    \n",
       "factor(mes)6  -0.03224886  0.01027545 -3.1384  0.001704 ** \n",
       "factor(mes)7  -0.07049087  0.01027545 -6.8601 7.348e-12 ***\n",
       "factor(mes)8   0.00162844  0.01056607  0.1541  0.877519    \n",
       "factor(mes)9  -0.01149941  0.01056607 -1.0883  0.276478    \n",
       "factor(mes)10 -0.00065466  0.01056607 -0.0620  0.950597    \n",
       "factor(mes)11 -0.00921630  0.01056607 -0.8723  0.383093    \n",
       "factor(mes)12 -0.00407932  0.01056607 -0.3861  0.699449    \n",
       "factor(mes)72 -0.08598571  0.01056607 -8.1379 4.573e-16 ***\n",
       "factor(mes)73 -0.07457019  0.01056607 -7.0575 1.824e-12 ***\n",
       "---\n",
       "Signif. codes:  0 ‘***’ 0.001 ‘**’ 0.01 ‘*’ 0.05 ‘.’ 0.1 ‘ ’ 1\n",
       "\n",
       "Total Sum of Squares:    414.75\n",
       "Residual Sum of Squares: 404.56\n",
       "R-Squared:      0.024564\n",
       "Adj. R-Squared: -0.074339\n",
       "F-statistic: 18.3584 on 12 and 8748 DF, p-value: < 2.22e-16"
      ]
     },
     "metadata": {},
     "output_type": "display_data"
    }
   ],
   "source": [
    "summary(lm)"
   ]
  },
  {
   "cell_type": "code",
   "execution_count": 48,
   "metadata": {
    "scrolled": true
   },
   "outputs": [
    {
     "data": {
      "text/plain": [
       "Oneway (individual) effect Within Model\n",
       "\n",
       "Call:\n",
       "plm(formula = totrob ~ inst1p + factor(mes), data = df, model = \"within\", \n",
       "    index = c(\"observ\"))\n",
       "\n",
       "Balanced Panel: n = 876, T = 11, N = 9636\n",
       "\n",
       "Residuals:\n",
       "     Min.   1st Qu.    Median   3rd Qu.      Max. \n",
       "-0.583343 -0.086637 -0.028289  0.025182  2.198983 \n",
       "\n",
       "Coefficients:\n",
       "                Estimate Std. Error t-value  Pr(>|t|)    \n",
       "inst1p        -0.0614528  0.0226417 -2.7141  0.006658 ** \n",
       "factor(mes)5  -0.0114155  0.0102751 -1.1110  0.266602    \n",
       "factor(mes)6  -0.0322489  0.0102751 -3.1386  0.001703 ** \n",
       "factor(mes)7  -0.0704909  0.0102751 -6.8604 7.334e-12 ***\n",
       "factor(mes)8   0.0003125  0.0103195  0.0303  0.975842    \n",
       "factor(mes)9  -0.0128153  0.0103195 -1.2419  0.214321    \n",
       "factor(mes)10 -0.0019706  0.0103195 -0.1910  0.848562    \n",
       "factor(mes)11 -0.0105322  0.0103195 -1.0206  0.307463    \n",
       "factor(mes)12 -0.0053953  0.0103195 -0.5228  0.601111    \n",
       "factor(mes)72 -0.0873016  0.0103195 -8.4599 < 2.2e-16 ***\n",
       "factor(mes)73 -0.0758861  0.0103195 -7.3537 2.102e-13 ***\n",
       "---\n",
       "Signif. codes:  0 ‘***’ 0.001 ‘**’ 0.01 ‘*’ 0.05 ‘.’ 0.1 ‘ ’ 1\n",
       "\n",
       "Total Sum of Squares:    414.75\n",
       "Residual Sum of Squares: 404.58\n",
       "R-Squared:      0.024527\n",
       "Adj. R-Squared: -0.074258\n",
       "F-statistic: 19.9983 on 11 and 8749 DF, p-value: < 2.22e-16"
      ]
     },
     "metadata": {},
     "output_type": "display_data"
    }
   ],
   "source": [
    "lm1 = plm(formula = totrob ~ inst1p + factor(mes), index=c(\"observ\"), model=\"within\", data=df)\n",
    "summary(lm1)"
   ]
  },
  {
   "cell_type": "code",
   "execution_count": 51,
   "metadata": {},
   "outputs": [
    {
     "data": {
      "text/plain": [
       "Oneway (individual) effect Within Model\n",
       "\n",
       "Call:\n",
       "plm(formula = totrob ~ inst1p + inst3_1p + cuad2p + factor(mes), \n",
       "    data = df, model = \"within\", index = \"observ\")\n",
       "\n",
       "Balanced Panel: n = 876, T = 11, N = 9636\n",
       "\n",
       "Residuals:\n",
       "     Min.   1st Qu.    Median   3rd Qu.      Max. \n",
       "-0.584545 -0.086439 -0.029491  0.023981  2.198867 \n",
       "\n",
       "Coefficients:\n",
       "                 Estimate  Std. Error t-value  Pr(>|t|)    \n",
       "inst1p        -0.06177446  0.02304957 -2.6801  0.007374 ** \n",
       "inst3_1p      -0.00586335  0.01237162 -0.4739  0.635558    \n",
       "cuad2p         0.00298277  0.01098171  0.2716  0.785926    \n",
       "factor(mes)5  -0.01141553  0.01027600 -1.1109  0.266645    \n",
       "factor(mes)6  -0.03224886  0.01027600 -3.1383  0.001705 ** \n",
       "factor(mes)7  -0.07049087  0.01027600 -6.8598 7.366e-12 ***\n",
       "factor(mes)8   0.00063419  0.01118273  0.0567  0.954777    \n",
       "factor(mes)9  -0.01249367  0.01118273 -1.1172  0.263927    \n",
       "factor(mes)10 -0.00164892  0.01118273 -0.1475  0.882778    \n",
       "factor(mes)11 -0.01021056  0.01118273 -0.9131  0.361233    \n",
       "factor(mes)12 -0.00507358  0.01118273 -0.4537  0.650058    \n",
       "factor(mes)72 -0.08697997  0.01118273 -7.7781 8.200e-15 ***\n",
       "factor(mes)73 -0.07556444  0.01118273 -6.7572 1.496e-11 ***\n",
       "---\n",
       "Signif. codes:  0 ‘***’ 0.001 ‘**’ 0.01 ‘*’ 0.05 ‘.’ 0.1 ‘ ’ 1\n",
       "\n",
       "Total Sum of Squares:    414.75\n",
       "Residual Sum of Squares: 404.56\n",
       "R-Squared:      0.024573\n",
       "Adj. R-Squared: -0.074453\n",
       "F-statistic: 16.9501 on 13 and 8747 DF, p-value: < 2.22e-16"
      ]
     },
     "metadata": {},
     "output_type": "display_data"
    }
   ],
   "source": [
    "lm1 = plm(formula = totrob ~ inst1p + inst3_1p + cuad2p + factor(mes), index=\"observ\", model=\"within\", data=df)\n",
    "summary(lm1)"
   ]
  },
  {
   "cell_type": "code",
   "execution_count": null,
   "metadata": {},
   "outputs": [],
   "source": []
  }
 ],
 "metadata": {
  "kernelspec": {
   "display_name": "R",
   "language": "R",
   "name": "ir"
  },
  "language_info": {
   "codemirror_mode": "r",
   "file_extension": ".r",
   "mimetype": "text/x-r-source",
   "name": "R",
   "pygments_lexer": "r",
   "version": "3.6.1"
  }
 },
 "nbformat": 4,
 "nbformat_minor": 4
}
